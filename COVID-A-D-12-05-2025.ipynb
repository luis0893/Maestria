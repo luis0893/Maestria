{
 "cells": [
  {
   "cell_type": "code",
   "execution_count": 1,
   "metadata": {},
   "outputs": [],
   "source": [
    "import pandas as pd\n",
    "from openpyxl import load_workbook, Workbook\n",
    "import xlsxwriter\n",
    "from datetime import date\n",
    "fecha_actual = date.today()\n",
    "\n",
    "# Convertir a string con formato personalizado\n",
    "fecha_como_string = fecha_actual.strftime('%d-%m-%Y') "
   ]
  },
  {
   "cell_type": "code",
   "execution_count": 2,
   "metadata": {},
   "outputs": [
    {
     "data": {
      "text/plain": [
       "(7302, 36)"
      ]
     },
     "execution_count": 2,
     "metadata": {},
     "output_type": "execute_result"
    }
   ],
   "source": [
    "df=pd.read_excel('ReporteCovid-19 (4).xlsx',sheet_name=\"Reporte Covid\",index_col=0,skiprows=4)\n",
    "df.shape"
   ]
  },
  {
   "cell_type": "markdown",
   "metadata": {},
   "source": [
    "Validaciones"
   ]
  },
  {
   "cell_type": "code",
   "execution_count": 3,
   "metadata": {},
   "outputs": [
    {
     "data": {
      "application/vnd.microsoft.datawrangler.viewer.v0+json": {
       "columns": [
        {
         "name": "('Municipio', 'Establecimiento')",
         "rawType": "object",
         "type": "unknown"
        },
        {
         "name": "('Nro. de Dosis', 'NO VALIDADO')",
         "rawType": "float64",
         "type": "float"
        },
        {
         "name": "('Nro. de Dosis', 'VALIDADO')",
         "rawType": "float64",
         "type": "float"
        },
        {
         "name": "('Nro. de Dosis', 'All')",
         "rawType": "int64",
         "type": "integer"
        }
       ],
       "conversionMethod": "pd.DataFrame",
       "ref": "9501f0b8-5b52-4be3-8a4d-8d57bb6c1e7c",
       "rows": [
        [
         "('BERMEJO', '21 DE DICIEMBRE')",
         null,
         "78.0",
         "78"
        ],
        [
         "('BERMEJO', 'ARROZALES')",
         null,
         "3.0",
         "3"
        ],
        [
         "('BERMEJO', 'AZUCARERO')",
         null,
         "45.0",
         "45"
        ],
        [
         "('BERMEJO', 'BARREDERO')",
         null,
         "2.0",
         "2"
        ],
        [
         "('BERMEJO', 'CAJA PETROLERA BERMEJO')",
         null,
         "12.0",
         "12"
        ],
        [
         "('BERMEJO', 'CANDADO GRANDE')",
         null,
         "9.0",
         "9"
        ],
        [
         "('BERMEJO', 'CENTRAL')",
         "4.0",
         "43.0",
         "47"
        ],
        [
         "('BERMEJO', 'CNS BERMEJO')",
         null,
         "8.0",
         "8"
        ],
        [
         "('BERMEJO', 'COLONIA LINARES')",
         null,
         "7.0",
         "7"
        ],
        [
         "('BERMEJO', 'HOSPITAL VIRGEN DE CHAGUAYA')",
         null,
         "54.0",
         "54"
        ],
        [
         "('BERMEJO', 'MOTO MENDEZ')",
         "2.0",
         "51.0",
         "53"
        ],
        [
         "('BERMEJO', 'SAN JOSE')",
         null,
         "138.0",
         "138"
        ],
        [
         "('BERMEJO', 'SAN ROQUE')",
         null,
         "49.0",
         "49"
        ],
        [
         "('CARAPARI', 'CAJA  NACIONAL DE SALUD  CARAPARI')",
         null,
         "36.0",
         "36"
        ],
        [
         "('CARAPARI', 'CAMPO LARGO')",
         null,
         "21.0",
         "21"
        ],
        [
         "('CARAPARI', 'CAMPO LARGO HITO 22')",
         null,
         "51.0",
         "51"
        ],
        [
         "('CARAPARI', 'CANAVERAL')",
         null,
         "60.0",
         "60"
        ],
        [
         "('CARAPARI', 'ITAPERENDA')",
         null,
         "3.0",
         "3"
        ],
        [
         "('CARAPARI', 'LAS SIDRAS')",
         null,
         "47.0",
         "47"
        ],
        [
         "('CARAPARI', 'LOMA ALTA')",
         null,
         "6.0",
         "6"
        ],
        [
         "('CARAPARI', 'SAN ALBERTO')",
         null,
         "60.0",
         "60"
        ],
        [
         "('CARAPARI', 'SAN NICOLAS')",
         null,
         "18.0",
         "18"
        ],
        [
         "('CARAPARI', 'VIRGEN DE GUADALUPE')",
         null,
         "114.0",
         "114"
        ],
        [
         "('EL PUENTE(TJA)', 'CHORCOYA MENDEZ')",
         null,
         "1.0",
         "1"
        ],
        [
         "('EL PUENTE(TJA)', 'EL PUENTE')",
         null,
         "4.0",
         "4"
        ],
        [
         "('EL PUENTE(TJA)', 'PAICHO CENTRO')",
         null,
         "11.0",
         "11"
        ],
        [
         "('EL PUENTE(TJA)', 'PAICHO SUD')",
         null,
         "9.0",
         "9"
        ],
        [
         "('EL PUENTE(TJA)', 'SAN FRANCISCO')",
         null,
         "11.0",
         "11"
        ],
        [
         "('EL PUENTE(TJA)', 'TOMAYAPO')",
         null,
         "3.0",
         "3"
        ],
        [
         "('EL PUENTE(TJA)', 'VIRGEN DE CHAGUAYA DE ISCAYACHI')",
         null,
         "133.0",
         "133"
        ],
        [
         "('ENTRE RIOS  TRJ', 'CHIQUIACA')",
         null,
         "3.0",
         "3"
        ],
        [
         "('ENTRE RIOS  TRJ', 'HOSPITAL SAN JUAN DE DIOS  ENTRE RIOS')",
         null,
         "30.0",
         "30"
        ],
        [
         "('ENTRE RIOS  TRJ', 'HUAYCO CENTRO')",
         null,
         "2.0",
         "2"
        ],
        [
         "('ENTRE RIOS  TRJ', 'IBOPEITY ENTRE RIOS')",
         null,
         "1.0",
         "1"
        ],
        [
         "('ENTRE RIOS  TRJ', 'LA CUEVA')",
         null,
         "6.0",
         "6"
        ],
        [
         "('ENTRE RIOS  TRJ', 'NARVAEZ')",
         null,
         "8.0",
         "8"
        ],
        [
         "('ENTRE RIOS  TRJ', 'PALOS BLANCOS')",
         null,
         "6.0",
         "6"
        ],
        [
         "('ENTRE RIOS  TRJ', 'POTRERILLOS')",
         null,
         "12.0",
         "12"
        ],
        [
         "('ENTRE RIOS  TRJ', 'PUERTO MARGARITA')",
         null,
         "4.0",
         "4"
        ],
        [
         "('ENTRE RIOS  TRJ', 'SALINAS')",
         null,
         "3.0",
         "3"
        ],
        [
         "('ENTRE RIOS  TRJ', 'SAN JOSECITO')",
         null,
         "1.0",
         "1"
        ],
        [
         "('ENTRE RIOS  TRJ', 'SERERE SUD')",
         null,
         "3.0",
         "3"
        ],
        [
         "('ENTRE RIOS  TRJ', 'SUARURO')",
         null,
         "2.0",
         "2"
        ],
        [
         "('ENTRE RIOS  TRJ', 'TABASAY')",
         null,
         "6.0",
         "6"
        ],
        [
         "('ENTRE RIOS  TRJ', 'TARUPAYO')",
         null,
         "9.0",
         "9"
        ],
        [
         "('ENTRE RIOS  TRJ', 'VALLE DEL MEDIO')",
         null,
         "5.0",
         "5"
        ],
        [
         "('ENTRE RIOS  TRJ', 'YUATY')",
         null,
         "12.0",
         "12"
        ],
        [
         "('ENTRE RIOS  TRJ', 'ÑAURENDA')",
         null,
         "2.0",
         "2"
        ],
        [
         "('PADCAYA', 'CAMACHO')",
         null,
         "3.0",
         "3"
        ],
        [
         "('PADCAYA', 'CHAGUAYA')",
         null,
         "3.0",
         "3"
        ]
       ],
       "shape": {
        "columns": 3,
        "rows": 164
       }
      },
      "text/html": [
       "<div>\n",
       "<style scoped>\n",
       "    .dataframe tbody tr th:only-of-type {\n",
       "        vertical-align: middle;\n",
       "    }\n",
       "\n",
       "    .dataframe tbody tr th {\n",
       "        vertical-align: top;\n",
       "    }\n",
       "\n",
       "    .dataframe thead tr th {\n",
       "        text-align: left;\n",
       "    }\n",
       "\n",
       "    .dataframe thead tr:last-of-type th {\n",
       "        text-align: right;\n",
       "    }\n",
       "</style>\n",
       "<table border=\"1\" class=\"dataframe\">\n",
       "  <thead>\n",
       "    <tr>\n",
       "      <th></th>\n",
       "      <th></th>\n",
       "      <th colspan=\"3\" halign=\"left\">Nro. de Dosis</th>\n",
       "    </tr>\n",
       "    <tr>\n",
       "      <th></th>\n",
       "      <th>Estado Validación</th>\n",
       "      <th>NO VALIDADO</th>\n",
       "      <th>VALIDADO</th>\n",
       "      <th>All</th>\n",
       "    </tr>\n",
       "    <tr>\n",
       "      <th>Municipio</th>\n",
       "      <th>Establecimiento</th>\n",
       "      <th></th>\n",
       "      <th></th>\n",
       "      <th></th>\n",
       "    </tr>\n",
       "  </thead>\n",
       "  <tbody>\n",
       "    <tr>\n",
       "      <th rowspan=\"5\" valign=\"top\">BERMEJO</th>\n",
       "      <th>21 DE DICIEMBRE</th>\n",
       "      <td>NaN</td>\n",
       "      <td>78.0</td>\n",
       "      <td>78</td>\n",
       "    </tr>\n",
       "    <tr>\n",
       "      <th>ARROZALES</th>\n",
       "      <td>NaN</td>\n",
       "      <td>3.0</td>\n",
       "      <td>3</td>\n",
       "    </tr>\n",
       "    <tr>\n",
       "      <th>AZUCARERO</th>\n",
       "      <td>NaN</td>\n",
       "      <td>45.0</td>\n",
       "      <td>45</td>\n",
       "    </tr>\n",
       "    <tr>\n",
       "      <th>BARREDERO</th>\n",
       "      <td>NaN</td>\n",
       "      <td>2.0</td>\n",
       "      <td>2</td>\n",
       "    </tr>\n",
       "    <tr>\n",
       "      <th>CAJA PETROLERA BERMEJO</th>\n",
       "      <td>NaN</td>\n",
       "      <td>12.0</td>\n",
       "      <td>12</td>\n",
       "    </tr>\n",
       "    <tr>\n",
       "      <th>...</th>\n",
       "      <th>...</th>\n",
       "      <td>...</td>\n",
       "      <td>...</td>\n",
       "      <td>...</td>\n",
       "    </tr>\n",
       "    <tr>\n",
       "      <th rowspan=\"4\" valign=\"top\">YUNCHARA</th>\n",
       "      <th>PASAJES</th>\n",
       "      <td>NaN</td>\n",
       "      <td>9.0</td>\n",
       "      <td>9</td>\n",
       "    </tr>\n",
       "    <tr>\n",
       "      <th>SANTA BARBARA DE ÑOQUERA</th>\n",
       "      <td>NaN</td>\n",
       "      <td>6.0</td>\n",
       "      <td>6</td>\n",
       "    </tr>\n",
       "    <tr>\n",
       "      <th>TOJO</th>\n",
       "      <td>NaN</td>\n",
       "      <td>5.0</td>\n",
       "      <td>5</td>\n",
       "    </tr>\n",
       "    <tr>\n",
       "      <th>YUNCHARA</th>\n",
       "      <td>NaN</td>\n",
       "      <td>11.0</td>\n",
       "      <td>11</td>\n",
       "    </tr>\n",
       "    <tr>\n",
       "      <th>All</th>\n",
       "      <th></th>\n",
       "      <td>20.0</td>\n",
       "      <td>7282.0</td>\n",
       "      <td>7302</td>\n",
       "    </tr>\n",
       "  </tbody>\n",
       "</table>\n",
       "<p>164 rows × 3 columns</p>\n",
       "</div>"
      ],
      "text/plain": [
       "                                   Nro. de Dosis               \n",
       "Estado Validación                    NO VALIDADO VALIDADO   All\n",
       "Municipio Establecimiento                                      \n",
       "BERMEJO   21 DE DICIEMBRE                    NaN     78.0    78\n",
       "          ARROZALES                          NaN      3.0     3\n",
       "          AZUCARERO                          NaN     45.0    45\n",
       "          BARREDERO                          NaN      2.0     2\n",
       "          CAJA PETROLERA BERMEJO             NaN     12.0    12\n",
       "...                                          ...      ...   ...\n",
       "YUNCHARA  PASAJES                            NaN      9.0     9\n",
       "          SANTA BARBARA DE ÑOQUERA           NaN      6.0     6\n",
       "          TOJO                               NaN      5.0     5\n",
       "          YUNCHARA                           NaN     11.0    11\n",
       "All                                         20.0   7282.0  7302\n",
       "\n",
       "[164 rows x 3 columns]"
      ]
     },
     "execution_count": 3,
     "metadata": {},
     "output_type": "execute_result"
    }
   ],
   "source": [
    "validaciones = df.pivot_table(\n",
    "    values=['Nro. de Dosis'],\n",
    "    index=['Municipio','Establecimiento'],\n",
    "    columns='Estado Validación',\n",
    "    aggfunc={'Nro. de Dosis': 'count'}, # Renombre la clave a 'Estado_Validacion_Conteo'\n",
    "    margins=True\n",
    "    # margins_names=True,  # Incluir totales generales y subtotales\n",
    "    # margins_names={'all': 'Total'}  # Personalizar nombres de totales\n",
    ")\n",
    "validaciones"
   ]
  },
  {
   "cell_type": "code",
   "execution_count": 4,
   "metadata": {},
   "outputs": [
    {
     "data": {
      "text/plain": [
       "Municipio  Establecimiento  Nombre Vacuna  Nro. de Dosis  Nombre Completo               Edad (Años)  Fecha de Vacunación  Fecha de Nacimiento  Usuario      Estado Validación\n",
       "BERMEJO    CENTRAL          COVID-19       DOSIS ANUAL    CARLA MARCELA -- BRAÑEZ       29           01/04/2025           15/05/1995           agudiño      NO VALIDADO          1\n",
       "                                                          ERICK DEL CASTILLO MOSQUEIRA  40           07/04/2025           21/02/1985           mfernandezj  NO VALIDADO          1\n",
       "                                                          JULIO CESAR MIRANDA GUZMAN    39           03/04/2025           21/12/1985           mfernandezj  NO VALIDADO          1\n",
       "                                                          MAYERLIN KRAMER NUÑEZ         36           22/04/2025           02/10/1988           agudiño      NO VALIDADO          1\n",
       "           MOTO MENDEZ      COVID-19       DOSIS ANUAL    LUZ ANTONETTE ANGULO CADENA   15           04/04/2025           01/09/2009           lguerreror   NO VALIDADO          1\n",
       "                                                          OSMER RUEDA QUISPE            27           08/04/2025           08/11/1997           rrodriguezr  NO VALIDADO          1\n",
       "PADCAYA    SALADO CONCHAS   COVID-19       DOSIS ANUAL    BERTIN ESTEBAN SEGOVIA CRUZ   42           29/04/2025           02/04/1983           bsegovia     NO VALIDADO          1\n",
       "                                                          CALIXTO FARFAN APARICIO       61           29/04/2025           14/10/1963           bsegovia     NO VALIDADO          1\n",
       "                                                          MARINA BARCA RAMOS            32           29/04/2025           10/07/1992           bsegovia     NO VALIDADO          1\n",
       "                                                          REBECA ZAMBRANA CANUTO        25           29/04/2025           25/07/1999           bsegovia     NO VALIDADO          1\n",
       "                                                          RIBANA  ACOSTA                30           29/04/2025           03/09/1994           bsegovia     NO VALIDADO          1\n",
       "                                                          RODRIGO -- ACOSTA             23           29/04/2025           13/03/2002           bsegovia     NO VALIDADO          1\n",
       "                                                          ROSARIO MAMANI TOLABA         23           29/04/2025           07/10/2001           bsegovia     NO VALIDADO          1\n",
       "                                                          SAIDA MAGALI VETANCUR NIEVES  28           29/04/2025           06/10/1996           bsegovia     NO VALIDADO          1\n",
       "                                           DOSIS UNICA    YERKO YAMIL                   19           29/04/2025           14/09/2005           bsegovia     NO VALIDADO          1\n",
       "           SAN ROQUE        COVID-19       DOSIS ANUAL    MARIO ORACIO PARRAGA VIDES    39           01/04/2025           25/01/1986           mguerra      NO VALIDADO          1\n",
       "                                           DOSIS UNICA    HUMBERTO CHIRI TORREZ         23           01/04/2025           08/02/2002           mguerra      NO VALIDADO          1\n",
       "                                                          SILVIO ORTIZ DONAIRE          38           22/04/2025           31/01/1987           mguerra      NO VALIDADO          1\n",
       "YACUIBA    SAN JERONIMO     COVID-19       DOSIS ANUAL    DENIS JAKELINE DONOSO RUEDA   40           17/04/2025           10/12/1984           itorrico     NO VALIDADO          1\n",
       "                                                          FLORA RUEDA CRUZ              62           22/04/2025           22/12/1962           itorrico     NO VALIDADO          1\n",
       "dtype: int64"
      ]
     },
     "execution_count": 4,
     "metadata": {},
     "output_type": "execute_result"
    }
   ],
   "source": [
    "valida=df[df['Estado Validación']=='NO VALIDADO']\n",
    "valida=valida.groupby(['Municipio','Establecimiento', 'Nombre Vacuna', 'Nro. de Dosis','Nombre Completo'\n",
    "                          ,'Edad (Años)','Fecha de Vacunación','Fecha de Nacimiento','Usuario','Estado Validación']).size()\n",
    "valida"
   ]
  },
  {
   "cell_type": "code",
   "execution_count": 5,
   "metadata": {},
   "outputs": [
    {
     "data": {
      "text/plain": [
       "Municipio  Establecimiento\n",
       "BERMEJO    CENTRAL            4\n",
       "           MOTO MENDEZ        2\n",
       "PADCAYA    SALADO CONCHAS     9\n",
       "           SAN ROQUE          3\n",
       "YACUIBA    SAN JERONIMO       2\n",
       "dtype: int64"
      ]
     },
     "execution_count": 5,
     "metadata": {},
     "output_type": "execute_result"
    }
   ],
   "source": [
    "valida1=df[df['Estado Validación']=='NO VALIDADO']\n",
    "valida1=valida1.groupby(['Municipio','Establecimiento']).size()\n",
    "valida1"
   ]
  },
  {
   "cell_type": "markdown",
   "metadata": {},
   "source": [
    "Duplicados"
   ]
  },
  {
   "cell_type": "code",
   "execution_count": 6,
   "metadata": {},
   "outputs": [
    {
     "data": {
      "text/plain": [
       "Municipio       Establecimiento                  Nombre Completo                Nombre Vacuna  Nro. de Dosis  Edad (Años)  Fecha de Nacimiento  Fecha de Vacunación  Usuario        Enfemedad de Base\n",
       "CARAPARI        CAMPO LARGO HITO 22              JOSE SANTOS MARTINEZ MAMANI    COVID-19       DOSIS ANUAL    35           18/11/1989           22/01/2025           aguzmanv       NO                   1\n",
       "                                                 MARTIN FRANKLIN JURADO FLORES  COVID-19       DOSIS ANUAL    28           23/02/1996           27/01/2025           aguzmanv       NO                   1\n",
       "                                                 NESTALY YELVI JURADO FLORES    COVID-19       DOSIS ANUAL    26           04/03/1998           27/01/2025           aguzmanv       NO                   1\n",
       "                LAS SIDRAS                       EDUARDO MARTINEZ CRUZ          COVID-19       DOSIS ANUAL    37           24/09/1987           11/02/2025           squispech1967  NO                   1\n",
       "                                                 JOSE ORTIZ HERRERA             COVID-19       DOSIS ANUAL    19           08/06/2005           11/02/2025           squispech1967  NO                   1\n",
       "EL PUENTE(TJA)  VIRGEN DE CHAGUAYA DE ISCAYACHI  BARTOLO DELGADO ARAMAYO        COVID-19       DOSIS ANUAL    64           24/08/1960           12/04/2025           acazon         NO                   1\n",
       "                                                 BENEDICTA SANGUINO RAMOS       COVID-19       DOSIS ANUAL    77           12/01/1948           19/03/2025           rramosr        NO                   1\n",
       "                                                 HILARIA GIRON GUTIERREZ        COVID-19       DOSIS ANUAL    74           15/01/1951           25/03/2025           mmartinezj     SI                   1\n",
       "                                                 SALUSTIANO LOPEZ FLORES        COVID-19       DOSIS ANUAL    69           08/06/1955           25/03/2025           oramosm        SI                   1\n",
       "TARIJA          SAN LUIS                         CESAR JHONNY MENACHO CHOQUE    COVID-19       DOSIS ANUAL    18           08/04/2006           14/01/2025           esolano        NO                   1\n",
       "VILLA MONTES    IBIBOBO                          EDIBERTO CHAMBILLA MAMANI      COVID-19       DOSIS UNICA    18           08/06/2006           28/01/2025           vdominguez     NO                   1\n",
       "dtype: int64"
      ]
     },
     "execution_count": 6,
     "metadata": {},
     "output_type": "execute_result"
    }
   ],
   "source": [
    "duplicados2 = df.duplicated(subset=['Nombre Completo','Nombre Vacuna', 'Nro. de Dosis'\n",
    "                          ,'Edad (Años)','Fecha de Nacimiento'])\n",
    "\n",
    "# Mostrar solo las filas duplicadas\n",
    "filas_duplicadas = df[duplicados2]\n",
    "filas_duplicadas=filas_duplicadas.groupby(['Municipio','Establecimiento','Nombre Completo','Nombre Vacuna', 'Nro. de Dosis'\n",
    "                          ,'Edad (Años)','Fecha de Nacimiento','Fecha de Vacunación','Usuario','Enfemedad de Base']).size()\n",
    "filas_duplicadas"
   ]
  },
  {
   "cell_type": "markdown",
   "metadata": {},
   "source": [
    "Personal de Salud menores a 18 años"
   ]
  },
  {
   "cell_type": "code",
   "execution_count": 7,
   "metadata": {},
   "outputs": [
    {
     "data": {
      "text/plain": [
       "Series([], dtype: int64)"
      ]
     },
     "execution_count": 7,
     "metadata": {},
     "output_type": "execute_result"
    }
   ],
   "source": [
    "sisaal=df[df['Personal de Salud']=='SI']\n",
    "sisaal=sisaal[sisaal['Edad (Años)']<18]\n",
    "df_salu = sisaal.groupby(['Municipio','Establecimiento', 'Nombre Vacuna', 'Nro. de Dosis','Nombre Completo'\n",
    "                          ,'Edad (Años)','Fecha de Nacimiento','Personal de Salud','Fecha de Vacunación','Usuario']).size()\n",
    "df_salu"
   ]
  },
  {
   "cell_type": "markdown",
   "metadata": {},
   "source": [
    "Registros antes del Acto de Vacunacion"
   ]
  },
  {
   "cell_type": "code",
   "execution_count": 8,
   "metadata": {},
   "outputs": [
    {
     "data": {
      "text/plain": [
       "Series([], dtype: int64)"
      ]
     },
     "execution_count": 8,
     "metadata": {},
     "output_type": "execute_result"
    }
   ],
   "source": [
    "# Convert the dates to DateTime format\n",
    "df[\"Fecha de Vacunación\"] = pd.to_datetime(df[\"Fecha de Vacunación\"], format=\"%d/%m/%Y\")\n",
    "df[\"Fecha Registro\"] = pd.to_datetime(df[\"Fecha Registro\"])\n",
    "\n",
    "# Calculate the difference in days\n",
    "df[\"Diferencia en Días\"] = df[\"Fecha Registro\"] - df[\"Fecha de Vacunación\"]\n",
    "df[\"Diferencia en Días\"] =df[\"Diferencia en Días\"].dt.days\n",
    "dif_dia=df[df[\"Diferencia en Días\"]<0]\n",
    "dif_dia=dif_dia.groupby(['Municipio','Establecimiento','Nombre Completo', 'Nombre Vacuna', 'Nro. de Dosis'\n",
    "                          ,'Edad (Años)','Fecha de Nacimiento','Fecha de Vacunación','Fecha Registro','Diferencia en Días','Usuario']).size()\n",
    "dif_dia"
   ]
  },
  {
   "cell_type": "markdown",
   "metadata": {},
   "source": [
    "Sin jeringa"
   ]
  },
  {
   "cell_type": "code",
   "execution_count": 9,
   "metadata": {},
   "outputs": [
    {
     "data": {
      "text/plain": [
       "Series([], dtype: int64)"
      ]
     },
     "execution_count": 9,
     "metadata": {},
     "output_type": "execute_result"
    }
   ],
   "source": [
    "snj1=df[(df['Jeringa de Administración'].isnull())]\n",
    "df_snj=snj1.groupby(['Municipio','Establecimiento','Nombre Completo','Fecha de Vacunación','Fecha de Nacimiento','Edad (Años)','Nombre Vacuna', 'Nro. de Dosis'\n",
    "                       ,'Usuario',]).size()\n",
    "df_snj"
   ]
  },
  {
   "cell_type": "markdown",
   "metadata": {},
   "source": [
    "Con diluyente"
   ]
  },
  {
   "cell_type": "code",
   "execution_count": 10,
   "metadata": {},
   "outputs": [
    {
     "data": {
      "text/plain": [
       "Series([], dtype: int64)"
      ]
     },
     "execution_count": 10,
     "metadata": {},
     "output_type": "execute_result"
    }
   ],
   "source": [
    "Con_dil=df[~(df['Jeringa de Dilusión'].isnull())& ~(df['Lote Diluyente'].isnull())]\n",
    "Con_dil=Con_dil.groupby(['Municipio','Establecimiento','Nombre Completo','Fecha de Vacunación','Fecha de Nacimiento','Edad (Años)','Nombre Vacuna', 'Nro. de Dosis','Lote Diluyente'\n",
    "                       ,'Jeringa de Dilusión','Usuario']).size()\n",
    "Con_dil"
   ]
  },
  {
   "cell_type": "code",
   "execution_count": 11,
   "metadata": {},
   "outputs": [],
   "source": [
    "# Crear un archivo Excel con varias hojas\n",
    "with pd.ExcelWriter('COVID-'+fecha_como_string+'.xlsx',engine='xlsxwriter') as writer:\n",
    "    workbook = writer.book\n",
    "    format1 = workbook.add_format({'bold': True, 'font_size': 16,'font_color': 'red', 'align': 'center'})\n",
    "    ####### DUPLICADOS###############\n",
    "    # duplicados.to_excel(writer, sheet_name='duplicados', index=True, startrow=1, startcol=1)\n",
    "    # dupsheet = writer.sheets['duplicados']    \n",
    "    # dupsheet.write('D1', 'REGISTROS DUPLICADOS', format1)\n",
    "    ########################\n",
    "    filas_duplicadas.to_excel(writer, sheet_name='duplicadoss', index=True, startrow=1, startcol=1)\n",
    "    fdupsheet = writer.sheets['duplicadoss']    \n",
    "    fdupsheet.write('D1', 'REGISTROS DUPLICADOSS', format1)\n",
    "    #######\n",
    "    sisaal.to_excel(writer, sheet_name='Per_Sald_<18', index=True, startrow=1, startcol=1)\n",
    "    sndysheet = writer.sheets['Per_Sald_<18']    \n",
    "    sndysheet.write('D1', 'PERSONAL DE SALUD MENOR A 18 AÑOS', format1)\n",
    "    #######\n",
    "    valida.to_excel(writer, sheet_name='validaciones',index=True, startrow=1, startcol=1)\n",
    "    snjsheet = writer.sheets['validaciones']    \n",
    "    snjsheet.write('D1', 'REGISTROS NO VALIDADOS', format1)\n",
    "    #######\n",
    "    validaciones.to_excel(writer, sheet_name='validaciones_num',index=True, startrow=1, startcol=1)\n",
    "    vacsheet = writer.sheets['validaciones_num']    \n",
    "    vacsheet.write('D1', 'REGISTROS NO VALIDADOS', format1)\n",
    "    ########\n",
    "    valida1.to_excel(writer, sheet_name='novali_es',index=True, startrow=1, startcol=1)\n",
    "    vac1sheet = writer.sheets['novali_es']    \n",
    "    vac1sheet.write('D1', 'REGISTROS NO VALIDADOS', format1)\n",
    "    ########\n",
    "    df_snj.to_excel(writer, sheet_name='Vacuna_sin_jeringa',index=True, startrow=1, startcol=1)\n",
    "    snjjsheet = writer.sheets['Vacuna_sin_jeringa']    \n",
    "    snjjsheet.write('D1', 'REGISTROS DE VACUNAS SIN JERINGA', format1)\n",
    "    ######## Con Diluyentye y Jeringa de dilusion####\n",
    "    Con_dil.to_excel(writer, sheet_name='Vacuna_con_dil_jerdil',index=True, startrow=1, startcol=1)\n",
    "    cndjdsheet = writer.sheets['Vacuna_con_dil_jerdil']    \n",
    "    cndjdsheet.write('D1', 'REGISTROS CON DILUYENTE Y JERINGA DE DILUSION', format1)\n",
    "     \n",
    "    ###########\n",
    "    for worksheet_name in writer.sheets:\n",
    "        worksheet = workbook.get_worksheet_by_name(worksheet_name)\n",
    "        worksheet.autofit()"
   ]
  }
 ],
 "metadata": {
  "kernelspec": {
   "display_name": "Python 3",
   "language": "python",
   "name": "python3"
  },
  "language_info": {
   "codemirror_mode": {
    "name": "ipython",
    "version": 3
   },
   "file_extension": ".py",
   "mimetype": "text/x-python",
   "name": "python",
   "nbconvert_exporter": "python",
   "pygments_lexer": "ipython3",
   "version": "3.11.9"
  }
 },
 "nbformat": 4,
 "nbformat_minor": 2
}
